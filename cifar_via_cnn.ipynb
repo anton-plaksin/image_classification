{
 "cells": [
  {
   "cell_type": "markdown",
   "metadata": {
    "tags": []
   },
   "source": [
    "# Classification of Cifar dataset via deep convalutional neural network\n",
    "\n",
    "Load the train and the validation, and the test parts of Cifar dataset"
   ]
  },
  {
   "cell_type": "code",
   "execution_count": 2,
   "metadata": {},
   "outputs": [
    {
     "ename": "ModuleNotFoundError",
     "evalue": "No module named 'cifar'",
     "output_type": "error",
     "traceback": [
      "\u001b[1;31m---------------------------------------------------------------------------\u001b[0m",
      "\u001b[1;31mModuleNotFoundError\u001b[0m                       Traceback (most recent call last)",
      "\u001b[1;32m<ipython-input-2-ffcb48d0edf7>\u001b[0m in \u001b[0;36m<module>\u001b[1;34m\u001b[0m\n\u001b[0;32m      1\u001b[0m \u001b[1;32mimport\u001b[0m \u001b[0mnumpy\u001b[0m \u001b[1;32mas\u001b[0m \u001b[0mnp\u001b[0m\u001b[1;33m\u001b[0m\u001b[1;33m\u001b[0m\u001b[0m\n\u001b[1;32m----> 2\u001b[1;33m \u001b[1;32mfrom\u001b[0m \u001b[0mcifar\u001b[0m \u001b[1;32mimport\u001b[0m \u001b[0mload_cifar10\u001b[0m\u001b[1;33m\u001b[0m\u001b[1;33m\u001b[0m\u001b[0m\n\u001b[0m\u001b[0;32m      3\u001b[0m \u001b[0mX_train\u001b[0m\u001b[1;33m,\u001b[0m \u001b[0my_train\u001b[0m\u001b[1;33m,\u001b[0m \u001b[0mX_valid\u001b[0m\u001b[1;33m,\u001b[0m \u001b[0my_valid\u001b[0m\u001b[1;33m,\u001b[0m \u001b[0m_\u001b[0m\u001b[1;33m,\u001b[0m \u001b[0m_\u001b[0m \u001b[1;33m=\u001b[0m \u001b[0mload_cifar10\u001b[0m\u001b[1;33m(\u001b[0m\u001b[1;34m\"cifar_data\"\u001b[0m\u001b[1;33m)\u001b[0m\u001b[1;33m\u001b[0m\u001b[1;33m\u001b[0m\u001b[0m\n\u001b[0;32m      4\u001b[0m \u001b[1;33m\u001b[0m\u001b[0m\n\u001b[0;32m      5\u001b[0m \u001b[0mprint\u001b[0m\u001b[1;33m(\u001b[0m\u001b[1;34mf'X_train.shape: {X_train.shape}, y_train.shape: {y_train.shape}'\u001b[0m\u001b[1;33m)\u001b[0m\u001b[1;33m\u001b[0m\u001b[1;33m\u001b[0m\u001b[0m\n",
      "\u001b[1;31mModuleNotFoundError\u001b[0m: No module named 'cifar'"
     ]
    }
   ],
   "source": [
    "import numpy as np\n",
    "from cifar import load_cifar10\n",
    "X_train, y_train, X_valid, y_valid, _, _ = load_cifar10(\"cifar_data\")\n",
    "\n",
    "print(f'X_train.shape: {X_train.shape}, y_train.shape: {y_train.shape}')\n",
    "print(f'X_valid.shape: {X_valid.shape}, y_valid.shape: {y_valid.shape}')"
   ]
  },
  {
   "cell_type": "markdown",
   "metadata": {},
   "source": [
    "Visualize some part of the dataset"
   ]
  },
  {
   "cell_type": "code",
   "execution_count": 1,
   "metadata": {},
   "outputs": [
    {
     "ename": "NameError",
     "evalue": "name 'y_train' is not defined",
     "output_type": "error",
     "traceback": [
      "\u001b[1;31m---------------------------------------------------------------------------\u001b[0m",
      "\u001b[1;31mNameError\u001b[0m                                 Traceback (most recent call last)",
      "\u001b[1;32m<ipython-input-1-cf42996b866f>\u001b[0m in \u001b[0;36m<module>\u001b[1;34m\u001b[0m\n\u001b[0;32m      7\u001b[0m \u001b[1;32mfor\u001b[0m \u001b[0mi\u001b[0m \u001b[1;32min\u001b[0m \u001b[0mrange\u001b[0m\u001b[1;33m(\u001b[0m\u001b[1;36m16\u001b[0m\u001b[1;33m)\u001b[0m\u001b[1;33m:\u001b[0m\u001b[1;33m\u001b[0m\u001b[1;33m\u001b[0m\u001b[0m\n\u001b[0;32m      8\u001b[0m     \u001b[0mplt\u001b[0m\u001b[1;33m.\u001b[0m\u001b[0msubplot\u001b[0m\u001b[1;33m(\u001b[0m\u001b[1;36m4\u001b[0m\u001b[1;33m,\u001b[0m\u001b[1;36m4\u001b[0m\u001b[1;33m,\u001b[0m\u001b[0mi\u001b[0m\u001b[1;33m+\u001b[0m\u001b[1;36m1\u001b[0m\u001b[1;33m)\u001b[0m\u001b[1;33m\u001b[0m\u001b[1;33m\u001b[0m\u001b[0m\n\u001b[1;32m----> 9\u001b[1;33m     \u001b[0mplt\u001b[0m\u001b[1;33m.\u001b[0m\u001b[0mxlabel\u001b[0m\u001b[1;33m(\u001b[0m\u001b[0mclass_names\u001b[0m\u001b[1;33m[\u001b[0m\u001b[0my_train\u001b[0m\u001b[1;33m[\u001b[0m\u001b[0mi\u001b[0m\u001b[1;33m]\u001b[0m\u001b[1;33m]\u001b[0m\u001b[1;33m)\u001b[0m\u001b[1;33m\u001b[0m\u001b[1;33m\u001b[0m\u001b[0m\n\u001b[0m\u001b[0;32m     10\u001b[0m     \u001b[0mplt\u001b[0m\u001b[1;33m.\u001b[0m\u001b[0mimshow\u001b[0m\u001b[1;33m(\u001b[0m\u001b[0mnp\u001b[0m\u001b[1;33m.\u001b[0m\u001b[0mtranspose\u001b[0m\u001b[1;33m(\u001b[0m\u001b[0mX_train\u001b[0m\u001b[1;33m[\u001b[0m\u001b[0mi\u001b[0m\u001b[1;33m]\u001b[0m\u001b[1;33m,\u001b[0m\u001b[1;33m[\u001b[0m\u001b[1;36m1\u001b[0m\u001b[1;33m,\u001b[0m\u001b[1;36m2\u001b[0m\u001b[1;33m,\u001b[0m\u001b[1;36m0\u001b[0m\u001b[1;33m]\u001b[0m\u001b[1;33m)\u001b[0m\u001b[1;33m)\u001b[0m\u001b[1;33m\u001b[0m\u001b[1;33m\u001b[0m\u001b[0m\n",
      "\u001b[1;31mNameError\u001b[0m: name 'y_train' is not defined"
     ]
    },
    {
     "data": {
      "image/png": "[encoded data removed]",
      "text/plain": [
       "<Figure size 864x864 with 1 Axes>"
      ]
     },
     "metadata": {
      "needs_background": "light"
     },
     "output_type": "display_data"
    }
   ],
   "source": [
    "import matplotlib.pyplot as plt\n",
    "%matplotlib inline\n",
    "\n",
    "class_names = ['airplane', 'automobile', 'bird', 'cat', 'deer', 'dog', 'frog', 'horse', 'ship', 'truck']\n",
    "\n",
    "plt.figure(figsize=[12,12])\n",
    "for i in range(16):\n",
    "    plt.subplot(4,4,i+1)\n",
    "    plt.xlabel(class_names[y_train[i]])\n",
    "    plt.imshow(np.transpose(X_train[i],[1,2,0]))"
   ]
  },
  {
   "cell_type": "markdown",
   "metadata": {},
   "source": [
    "Adding transformed images to the train part"
   ]
  },
  {
   "cell_type": "code",
   "execution_count": 200,
   "metadata": {},
   "outputs": [
    {
     "name": "stdout",
     "output_type": "stream",
     "text": [
      "transformed_X_train.shape: (80000, 3, 32, 32), transformed_y_train.shape: (80000,)\n"
     ]
    }
   ],
   "source": [
    "import torch\n",
    "import torch.nn as nn\n",
    "from torchvision import transforms\n",
    "\n",
    "transforms = nn.Sequential(\n",
    "    transforms.Normalize((0.485, 0.456, 0.406), (0.229, 0.224, 0.225)),\n",
    "    transforms.RandomRotation([-30, 30]),\n",
    "    transforms.RandomHorizontalFlip(),\n",
    ")\n",
    "\n",
    "scripted_transforms = torch.jit.script(transforms)\n",
    "\n",
    "transformed_X_train, transformed_y_train = [], []\n",
    "for image, target in zip(X_train, y_train):\n",
    "    image = torch.FloatTensor(image)\n",
    "    transformed_image = scripted_transforms(image)\n",
    "    transformed_image = transformed_image.numpy()\n",
    "    transformed_X_train.append(transformed_image)\n",
    "    transformed_y_train.append(target)\n",
    "\n",
    "transformed_X_train = np.vstack((X_train, np.array(transformed_X_train)))\n",
    "transformed_y_train = np.hstack((y_train, np.array(transformed_y_train)))\n",
    "\n",
    "print(f'transformed_X_train.shape: {transformed_X_train.shape}, \\\n",
    "transformed_y_train.shape: {transformed_y_train.shape}')"
   ]
  },
  {
   "cell_type": "markdown",
   "metadata": {},
   "source": [
    "Determine the class of model"
   ]
  },
  {
   "cell_type": "code",
   "execution_count": 198,
   "metadata": {},
   "outputs": [],
   "source": [
    "class NNModel(nn.Module):\n",
    "    def __init__(self):\n",
    "        super().__init__()\n",
    "        self.conv1 = nn.Conv2d(3, 32, kernel_size=3, stride=1)\n",
    "        self.batchnorm1 = nn.BatchNorm2d(32)\n",
    "        self.conv2 = nn.Conv2d(32, 64, kernel_size=3, stride=1)\n",
    "        self.batchnorm2 = nn.BatchNorm2d(64)\n",
    "        self.dense1 = nn.Linear(64 * 6 * 6, 512)\n",
    "        self.dense2 = nn.Linear(512, 10)\n",
    "        \n",
    "        self.relu = nn.ReLU()\n",
    "        self.maxpool = nn.MaxPool2d(2)\n",
    "        self.dropout = nn.Dropout(0.5)\n",
    "        \n",
    "        self.batch_size = 50\n",
    "        self.optimazer = torch.optim.SGD(self.parameters(), lr=0.01)\n",
    "        return None\n",
    "        \n",
    "    def forward(self, input):\n",
    "        hidden = self.conv1(input)\n",
    "        hidden = self.batchnorm1(hidden)\n",
    "        hidden = self.relu(hidden)\n",
    "        hidden = self.maxpool(hidden)\n",
    "        \n",
    "        hidden = self.conv2(hidden)\n",
    "        hidden = self.batchnorm2(hidden)\n",
    "        hidden = self.relu(hidden)\n",
    "        hidden = self.maxpool(hidden)\n",
    "        \n",
    "        hidden = hidden.view(hidden.size(0), -1)\n",
    "        hidden = self.dense1(hidden)\n",
    "        hidden = self.relu(hidden)\n",
    "        hidden = self.dropout(hidden)\n",
    "        hidden = self.dense2(hidden)\n",
    "        return hidden\n",
    "    \n",
    "    def fit(self, X_train, y_train):\n",
    "        self.train(True)\n",
    "        \n",
    "        train_size = X_train.shape[0]\n",
    "        \n",
    "        #shuffle indices\n",
    "        indices = np.arange(train_size)\n",
    "        indices = np.random.permutation(indices)\n",
    "        \n",
    "        for start in range(0, train_size, self.batch_size):\n",
    "            \n",
    "            #get minibatch\n",
    "            batch_indices = indices[start: start + self.batch_size]\n",
    "            X_batch = X_train[batch_indices]\n",
    "            y_batch = y_train[batch_indices]\n",
    "            \n",
    "            #calculate loss\n",
    "            X_batch = torch.FloatTensor(X_batch)\n",
    "            y_batch = torch.LongTensor(y_batch)\n",
    "            logits = self.forward(X_batch)\n",
    "            loss = F.cross_entropy(logits, y_batch).mean()\n",
    "            \n",
    "            #update parameters\n",
    "            loss.backward()\n",
    "            self.optimazer.step()\n",
    "            self.optimazer.zero_grad()\n",
    "        \n",
    "        return loss\n",
    "    \n",
    "    def test(self, X_valid, y_valid):\n",
    "        self.train(False)\n",
    "        \n",
    "        X_valid = torch.FloatTensor(X_valid)\n",
    "        logits = self.forward(X_valid).data.numpy()\n",
    "        y_pred = np.argmax(logits, axis=1)\n",
    "        return np.mean(y_valid == y_pred)"
   ]
  },
  {
   "cell_type": "markdown",
   "metadata": {},
   "source": [
    "Determine the class of Visualizer"
   ]
  },
  {
   "cell_type": "code",
   "execution_count": 199,
   "metadata": {},
   "outputs": [],
   "source": [
    "import time\n",
    "from IPython.display import clear_output\n",
    "\n",
    "\n",
    "class Visualizer():\n",
    "    def __init__(self):\n",
    "        self.loss_values = []\n",
    "        self.accuracy_values = []\n",
    "        self.start_time = time.time()\n",
    "        return None\n",
    "    \n",
    "    def show(self, loss, accuracy, epoch):\n",
    "        clear_output(True)\n",
    "        \n",
    "        loss = loss.data.numpy().reshape(1)[0]\n",
    "        print('epoch: {}, accuracy: {:.2f}%, loss: {:.2f}, epoch time: {:.2f}s'.format(\n",
    "        epoch + 1, accuracy * 100, loss, time.time() - self.start_time))\n",
    "        if len(self.accuracy_values) > 0:\n",
    "            print('best accuracy: {:.2f}%'.format(max(self.accuracy_values) * 100))\n",
    "        \n",
    "        self.loss_values.append(loss)\n",
    "        self.accuracy_values.append(accuracy)\n",
    "        \n",
    "        plt.figure(figsize=[10,5])\n",
    "        if len(self.loss_values) > 0:\n",
    "            plt.plot(self.loss_values / max(self.loss_values), 'b', label='normalized loss')\n",
    "        plt.plot(self.accuracy_values, 'r', label='accuracy')\n",
    "        plt.title('Learning progress')\n",
    "        plt.xlabel('Epoch')\n",
    "        plt.legend()\n",
    "        plt.show()\n",
    "        \n",
    "        self.start_time = time.time()\n",
    "        return None"
   ]
  },
  {
   "cell_type": "markdown",
   "metadata": {},
   "source": [
    "Train the model"
   ]
  },
  {
   "cell_type": "code",
   "execution_count": 201,
   "metadata": {},
   "outputs": [
    {
     "name": "stdout",
     "output_type": "stream",
     "text": [
      "epoch: 100, accuracy: 76.92%, loss: 0.10, epoch time: 56.08s\n",
      "best accuracy: 78.20%\n"
     ]
    },
    {
     "data": {
      "image/png": "[encoded data removed]",
      "text/plain": [
       "<Figure size 720x360 with 1 Axes>"
      ]
     },
     "metadata": {
      "needs_background": "light"
     },
     "output_type": "display_data"
    }
   ],
   "source": [
    "nn_model = NNModel()\n",
    "visualizer = Visualizer()\n",
    "\n",
    "loss_values, accuracy_values = [], []\n",
    "n_epochs = 100\n",
    "for epoch in range(n_epochs):\n",
    "    loss = nn_model.fit(transformed_X_train, transformed_y_train)\n",
    "    accuracy = nn_model.test(X_valid, y_valid)\n",
    "    visualizer.show(loss, accuracy, epoch)"
   ]
  },
  {
   "cell_type": "code",
   "execution_count": null,
   "metadata": {},
   "outputs": [],
   "source": []
  }
 ],
 "metadata": {
  "kernelspec": {
   "display_name": "Python 3",
   "language": "python",
   "name": "python3"
  },
  "language_info": {
   "codemirror_mode": {
    "name": "ipython",
    "version": 3
   },
   "file_extension": ".py",
   "mimetype": "text/x-python",
   "name": "python",
   "nbconvert_exporter": "python",
   "pygments_lexer": "ipython3",
   "version": "3.9.0"
  }
 },
 "nbformat": 4,
 "nbformat_minor": 4
}
